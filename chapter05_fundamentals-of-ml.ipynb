{
 "cells": [
  {
   "cell_type": "markdown",
   "metadata": {
    "colab_type": "text"
   },
   "source": [
    "This is a companion notebook for the book [Deep Learning with Python, Second Edition](https://www.manning.com/books/deep-learning-with-python-second-edition?a_aid=keras&a_bid=76564dff). For readability, it only contains runnable code blocks and section titles, and omits everything else in the book: text paragraphs, figures, and pseudocode.\n",
    "\n",
    "**If you want to be able to follow what's going on, I recommend reading the notebook side by side with your copy of the book.**\n",
    "\n",
    "This notebook was generated for TensorFlow 2.6."
   ]
  },
  {
   "cell_type": "markdown",
   "metadata": {
    "colab_type": "text"
   },
   "source": [
    "# Fundamentals of machine learning"
   ]
  },
  {
   "cell_type": "markdown",
   "metadata": {
    "colab_type": "text"
   },
   "source": [
    "## Generalization: The goal of machine learning"
   ]
  },
  {
   "cell_type": "markdown",
   "metadata": {
    "colab_type": "text"
   },
   "source": [
    "### Underfitting and overfitting"
   ]
  },
  {
   "cell_type": "markdown",
   "metadata": {
    "colab_type": "text"
   },
   "source": [
    "#### Noisy training data"
   ]
  },
  {
   "cell_type": "markdown",
   "metadata": {
    "colab_type": "text"
   },
   "source": [
    "#### Ambiguous features"
   ]
  },
  {
   "cell_type": "markdown",
   "metadata": {
    "colab_type": "text"
   },
   "source": [
    "#### Rare features and spurious correlations"
   ]
  },
  {
   "cell_type": "markdown",
   "metadata": {
    "colab_type": "text"
   },
   "source": [
    "**Adding white-noise channels or all-zeros channels to MNIST**"
   ]
  },
  {
   "cell_type": "code",
   "execution_count": 1,
   "metadata": {
    "colab_type": "code"
   },
   "outputs": [
    {
     "name": "stderr",
     "output_type": "stream",
     "text": [
      "2022-10-23 16:21:13.006547: I tensorflow/core/platform/cpu_feature_guard.cc:193] This TensorFlow binary is optimized with oneAPI Deep Neural Network Library (oneDNN) to use the following CPU instructions in performance-critical operations:  AVX2 FMA\n",
      "To enable them in other operations, rebuild TensorFlow with the appropriate compiler flags.\n"
     ]
    }
   ],
   "source": [
    "from tensorflow.keras.datasets import mnist\n",
    "import numpy as np\n",
    "\n",
    "(train_images, train_labels), _ = mnist.load_data()\n",
    "train_images = train_images.reshape((60000, 28 * 28))\n",
    "train_images = train_images.astype(\"float32\") / 255\n",
    "\n",
    "train_images_with_noise_channels = np.concatenate(\n",
    "    [train_images, np.random.random((len(train_images), 784))], axis=1)\n",
    "\n",
    "train_images_with_zeros_channels = np.concatenate(\n",
    "    [train_images, np.zeros((len(train_images), 784))], axis=1)"
   ]
  },
  {
   "cell_type": "markdown",
   "metadata": {
    "colab_type": "text"
   },
   "source": [
    "**Training the same model on MNIST data with noise channels or all-zero channels**"
   ]
  },
  {
   "cell_type": "code",
   "execution_count": 2,
   "metadata": {
    "colab_type": "code"
   },
   "outputs": [
    {
     "name": "stderr",
     "output_type": "stream",
     "text": [
      "2022-10-23 16:21:23.377548: I tensorflow/core/platform/cpu_feature_guard.cc:193] This TensorFlow binary is optimized with oneAPI Deep Neural Network Library (oneDNN) to use the following CPU instructions in performance-critical operations:  AVX2 FMA\n",
      "To enable them in other operations, rebuild TensorFlow with the appropriate compiler flags.\n"
     ]
    },
    {
     "name": "stdout",
     "output_type": "stream",
     "text": [
      "Epoch 1/10\n",
      "375/375 [==============================] - 3s 7ms/step - loss: 0.6230 - accuracy: 0.8125 - val_loss: 0.2482 - val_accuracy: 0.9283\n",
      "Epoch 2/10\n",
      "375/375 [==============================] - 2s 6ms/step - loss: 0.2505 - accuracy: 0.9233 - val_loss: 0.1935 - val_accuracy: 0.9449\n",
      "Epoch 3/10\n",
      "375/375 [==============================] - 2s 6ms/step - loss: 0.1628 - accuracy: 0.9500 - val_loss: 0.2007 - val_accuracy: 0.9377\n",
      "Epoch 4/10\n",
      "375/375 [==============================] - 2s 6ms/step - loss: 0.1144 - accuracy: 0.9647 - val_loss: 0.1927 - val_accuracy: 0.9416\n",
      "Epoch 5/10\n",
      "375/375 [==============================] - 2s 6ms/step - loss: 0.0833 - accuracy: 0.9739 - val_loss: 0.1325 - val_accuracy: 0.9621\n",
      "Epoch 6/10\n",
      "375/375 [==============================] - 2s 6ms/step - loss: 0.0616 - accuracy: 0.9802 - val_loss: 0.2335 - val_accuracy: 0.9367\n",
      "Epoch 7/10\n",
      "375/375 [==============================] - 2s 6ms/step - loss: 0.0467 - accuracy: 0.9847 - val_loss: 0.1193 - val_accuracy: 0.9681\n",
      "Epoch 8/10\n",
      "375/375 [==============================] - 2s 6ms/step - loss: 0.0340 - accuracy: 0.9894 - val_loss: 0.1984 - val_accuracy: 0.9485\n",
      "Epoch 9/10\n",
      "375/375 [==============================] - 2s 6ms/step - loss: 0.0259 - accuracy: 0.9919 - val_loss: 0.1287 - val_accuracy: 0.9687\n",
      "Epoch 10/10\n",
      "375/375 [==============================] - 3s 7ms/step - loss: 0.0203 - accuracy: 0.9936 - val_loss: 0.1328 - val_accuracy: 0.9695\n",
      "Epoch 1/10\n",
      "375/375 [==============================] - 3s 8ms/step - loss: 0.2872 - accuracy: 0.9174 - val_loss: 0.1800 - val_accuracy: 0.9459\n",
      "Epoch 2/10\n",
      "375/375 [==============================] - 2s 7ms/step - loss: 0.1207 - accuracy: 0.9644 - val_loss: 0.1057 - val_accuracy: 0.9682\n",
      "Epoch 3/10\n",
      "375/375 [==============================] - 3s 9ms/step - loss: 0.0788 - accuracy: 0.9767 - val_loss: 0.0941 - val_accuracy: 0.9719\n",
      "Epoch 4/10\n",
      "375/375 [==============================] - 2s 6ms/step - loss: 0.0573 - accuracy: 0.9828 - val_loss: 0.0835 - val_accuracy: 0.9751\n",
      "Epoch 5/10\n",
      "375/375 [==============================] - 3s 7ms/step - loss: 0.0430 - accuracy: 0.9868 - val_loss: 0.0888 - val_accuracy: 0.9725\n",
      "Epoch 6/10\n",
      "375/375 [==============================] - 3s 8ms/step - loss: 0.0325 - accuracy: 0.9903 - val_loss: 0.0811 - val_accuracy: 0.9765\n",
      "Epoch 7/10\n",
      "375/375 [==============================] - 3s 7ms/step - loss: 0.0242 - accuracy: 0.9931 - val_loss: 0.0893 - val_accuracy: 0.9760\n",
      "Epoch 8/10\n",
      "375/375 [==============================] - 3s 7ms/step - loss: 0.0181 - accuracy: 0.9948 - val_loss: 0.0812 - val_accuracy: 0.9787\n",
      "Epoch 9/10\n",
      "375/375 [==============================] - 3s 8ms/step - loss: 0.0143 - accuracy: 0.9960 - val_loss: 0.0785 - val_accuracy: 0.9793\n",
      "Epoch 10/10\n",
      "375/375 [==============================] - 3s 9ms/step - loss: 0.0101 - accuracy: 0.9972 - val_loss: 0.0841 - val_accuracy: 0.9773\n"
     ]
    }
   ],
   "source": [
    "from tensorflow import keras\n",
    "from tensorflow.keras import layers\n",
    "\n",
    "def get_model():\n",
    "    model = keras.Sequential([\n",
    "        layers.Dense(512, activation=\"relu\"),\n",
    "        layers.Dense(10, activation=\"softmax\")\n",
    "    ])\n",
    "    model.compile(optimizer=\"rmsprop\",\n",
    "                  loss=\"sparse_categorical_crossentropy\",\n",
    "                  metrics=[\"accuracy\"])\n",
    "    return model\n",
    "\n",
    "model = get_model()\n",
    "history_noise = model.fit(\n",
    "    train_images_with_noise_channels, train_labels,\n",
    "    epochs=10,\n",
    "    batch_size=128,\n",
    "    validation_split=0.2)\n",
    "\n",
    "model = get_model()\n",
    "history_zeros = model.fit(\n",
    "    train_images_with_zeros_channels, train_labels,\n",
    "    epochs=10,\n",
    "    batch_size=128,\n",
    "    validation_split=0.2)"
   ]
  },
  {
   "cell_type": "markdown",
   "metadata": {
    "colab_type": "text"
   },
   "source": [
    "**Plotting a validation accuracy comparison**"
   ]
  },
  {
   "cell_type": "code",
   "execution_count": 3,
   "metadata": {
    "colab_type": "code"
   },
   "outputs": [
    {
     "data": {
      "text/plain": [
       "<matplotlib.legend.Legend at 0x7fcdf8e24af0>"
      ]
     },
     "execution_count": 3,
     "metadata": {},
     "output_type": "execute_result"
    },
    {
     "data": {
      "image/png": "[encoded data removed]",
      "text/plain": [
       "<Figure size 432x288 with 1 Axes>"
      ]
     },
     "metadata": {
      "needs_background": "light"
     },
     "output_type": "display_data"
    }
   ],
   "source": [
    "import matplotlib.pyplot as plt\n",
    "val_acc_noise = history_noise.history[\"val_accuracy\"]\n",
    "val_acc_zeros = history_zeros.history[\"val_accuracy\"]\n",
    "epochs = range(1, 11)\n",
    "plt.plot(epochs, val_acc_noise, \"b-\",\n",
    "         label=\"Validation accuracy with noise channels\")\n",
    "plt.plot(epochs, val_acc_zeros, \"b--\",\n",
    "         label=\"Validation accuracy with zeros channels\")\n",
    "plt.title(\"Effect of noise channels on validation accuracy\")\n",
    "plt.xlabel(\"Epochs\")\n",
    "plt.ylabel(\"Accuracy\")\n",
    "plt.legend()"
   ]
  },
  {
   "cell_type": "markdown",
   "metadata": {
    "colab_type": "text"
   },
   "source": [
    "### The nature of generalization in deep learning"
   ]
  },
  {
   "cell_type": "markdown",
   "metadata": {
    "colab_type": "text"
   },
   "source": [
    "**Fitting a MNIST model with randomly shuffled labels**"
   ]
  },
  {
   "cell_type": "code",
   "execution_count": 4,
   "metadata": {
    "colab_type": "code"
   },
   "outputs": [
    {
     "name": "stdout",
     "output_type": "stream",
     "text": [
      "Epoch 1/100\n",
      "375/375 [==============================] - 3s 6ms/step - loss: 2.3178 - accuracy: 0.0998 - val_loss: 2.3064 - val_accuracy: 0.0992\n",
      "Epoch 2/100\n",
      "375/375 [==============================] - 3s 7ms/step - loss: 2.2994 - accuracy: 0.1181 - val_loss: 2.3124 - val_accuracy: 0.0970\n",
      "Epoch 3/100\n",
      "375/375 [==============================] - 2s 7ms/step - loss: 2.2888 - accuracy: 0.1280 - val_loss: 2.3215 - val_accuracy: 0.1057\n",
      "Epoch 4/100\n",
      "375/375 [==============================] - 3s 7ms/step - loss: 2.2739 - accuracy: 0.1408 - val_loss: 2.3270 - val_accuracy: 0.1052\n",
      "Epoch 5/100\n",
      "375/375 [==============================] - 2s 5ms/step - loss: 2.2550 - accuracy: 0.1559 - val_loss: 2.3434 - val_accuracy: 0.1007\n",
      "Epoch 6/100\n",
      "375/375 [==============================] - 2s 4ms/step - loss: 2.2333 - accuracy: 0.1728 - val_loss: 2.3563 - val_accuracy: 0.1035\n",
      "Epoch 7/100\n",
      "375/375 [==============================] - 2s 7ms/step - loss: 2.2078 - accuracy: 0.1884 - val_loss: 2.3779 - val_accuracy: 0.1068\n",
      "Epoch 8/100\n",
      "375/375 [==============================] - 3s 7ms/step - loss: 2.1791 - accuracy: 0.2018 - val_loss: 2.3941 - val_accuracy: 0.1002\n",
      "Epoch 9/100\n",
      "375/375 [==============================] - 2s 6ms/step - loss: 2.1480 - accuracy: 0.2193 - val_loss: 2.4168 - val_accuracy: 0.1008\n",
      "Epoch 10/100\n",
      "375/375 [==============================] - 2s 6ms/step - loss: 2.1156 - accuracy: 0.2354 - val_loss: 2.4318 - val_accuracy: 0.1020\n",
      "Epoch 11/100\n",
      "375/375 [==============================] - 3s 8ms/step - loss: 2.0821 - accuracy: 0.2512 - val_loss: 2.4598 - val_accuracy: 0.0997\n",
      "Epoch 12/100\n",
      "375/375 [==============================] - 3s 7ms/step - loss: 2.0477 - accuracy: 0.2666 - val_loss: 2.4814 - val_accuracy: 0.1020\n",
      "Epoch 13/100\n",
      "375/375 [==============================] - 3s 7ms/step - loss: 2.0132 - accuracy: 0.2822 - val_loss: 2.5079 - val_accuracy: 0.1020\n",
      "Epoch 14/100\n",
      "375/375 [==============================] - 3s 7ms/step - loss: 1.9776 - accuracy: 0.2985 - val_loss: 2.5434 - val_accuracy: 0.0999\n",
      "Epoch 15/100\n",
      "375/375 [==============================] - 2s 6ms/step - loss: 1.9432 - accuracy: 0.3110 - val_loss: 2.5849 - val_accuracy: 0.1022\n",
      "Epoch 16/100\n",
      "375/375 [==============================] - 2s 6ms/step - loss: 1.9072 - accuracy: 0.3281 - val_loss: 2.6161 - val_accuracy: 0.1049\n",
      "Epoch 17/100\n",
      "375/375 [==============================] - 2s 6ms/step - loss: 1.8725 - accuracy: 0.3422 - val_loss: 2.6360 - val_accuracy: 0.0998\n",
      "Epoch 18/100\n",
      "375/375 [==============================] - 2s 4ms/step - loss: 1.8381 - accuracy: 0.3552 - val_loss: 2.6655 - val_accuracy: 0.1005\n",
      "Epoch 19/100\n",
      "375/375 [==============================] - 2s 4ms/step - loss: 1.8028 - accuracy: 0.3693 - val_loss: 2.7333 - val_accuracy: 0.1060\n",
      "Epoch 20/100\n",
      "375/375 [==============================] - 2s 4ms/step - loss: 1.7725 - accuracy: 0.3843 - val_loss: 2.7459 - val_accuracy: 0.1016\n",
      "Epoch 21/100\n",
      "375/375 [==============================] - 1s 4ms/step - loss: 1.7372 - accuracy: 0.3957 - val_loss: 2.7770 - val_accuracy: 0.1007\n",
      "Epoch 22/100\n",
      "375/375 [==============================] - 2s 4ms/step - loss: 1.7061 - accuracy: 0.4065 - val_loss: 2.8235 - val_accuracy: 0.1022\n",
      "Epoch 23/100\n",
      "375/375 [==============================] - 2s 4ms/step - loss: 1.6738 - accuracy: 0.4202 - val_loss: 2.8763 - val_accuracy: 0.1021\n",
      "Epoch 24/100\n",
      "375/375 [==============================] - 2s 4ms/step - loss: 1.6440 - accuracy: 0.4323 - val_loss: 2.9129 - val_accuracy: 0.1032\n",
      "Epoch 25/100\n",
      "375/375 [==============================] - 2s 5ms/step - loss: 1.6144 - accuracy: 0.4411 - val_loss: 2.9785 - val_accuracy: 0.1012\n",
      "Epoch 26/100\n",
      "375/375 [==============================] - 2s 5ms/step - loss: 1.5836 - accuracy: 0.4562 - val_loss: 2.9936 - val_accuracy: 0.1011\n",
      "Epoch 27/100\n",
      "375/375 [==============================] - 2s 4ms/step - loss: 1.5588 - accuracy: 0.4660 - val_loss: 3.0561 - val_accuracy: 0.1023\n",
      "Epoch 28/100\n",
      "375/375 [==============================] - 2s 5ms/step - loss: 1.5278 - accuracy: 0.4763 - val_loss: 3.0683 - val_accuracy: 0.1014\n",
      "Epoch 29/100\n",
      "375/375 [==============================] - 2s 5ms/step - loss: 1.5017 - accuracy: 0.4852 - val_loss: 3.1130 - val_accuracy: 0.1015\n",
      "Epoch 30/100\n",
      "375/375 [==============================] - 2s 4ms/step - loss: 1.4748 - accuracy: 0.4952 - val_loss: 3.1754 - val_accuracy: 0.0985\n",
      "Epoch 31/100\n",
      "375/375 [==============================] - 2s 5ms/step - loss: 1.4502 - accuracy: 0.5031 - val_loss: 3.2196 - val_accuracy: 0.1068\n",
      "Epoch 32/100\n",
      "375/375 [==============================] - 2s 4ms/step - loss: 1.4248 - accuracy: 0.5139 - val_loss: 3.2715 - val_accuracy: 0.1028\n",
      "Epoch 33/100\n",
      "375/375 [==============================] - 2s 5ms/step - loss: 1.3990 - accuracy: 0.5247 - val_loss: 3.2984 - val_accuracy: 0.1047\n",
      "Epoch 34/100\n",
      "375/375 [==============================] - 2s 5ms/step - loss: 1.3742 - accuracy: 0.5296 - val_loss: 3.3646 - val_accuracy: 0.1021\n",
      "Epoch 35/100\n",
      "375/375 [==============================] - 2s 5ms/step - loss: 1.3524 - accuracy: 0.5421 - val_loss: 3.4141 - val_accuracy: 0.1032\n",
      "Epoch 36/100\n",
      "375/375 [==============================] - 2s 5ms/step - loss: 1.3279 - accuracy: 0.5470 - val_loss: 3.4990 - val_accuracy: 0.1005\n",
      "Epoch 37/100\n",
      "375/375 [==============================] - 2s 5ms/step - loss: 1.3072 - accuracy: 0.5561 - val_loss: 3.5295 - val_accuracy: 0.1057\n",
      "Epoch 38/100\n",
      "375/375 [==============================] - 2s 5ms/step - loss: 1.2826 - accuracy: 0.5647 - val_loss: 3.5588 - val_accuracy: 0.1042\n",
      "Epoch 39/100\n",
      "375/375 [==============================] - 2s 5ms/step - loss: 1.2620 - accuracy: 0.5750 - val_loss: 3.6097 - val_accuracy: 0.1023\n",
      "Epoch 40/100\n",
      "375/375 [==============================] - 2s 5ms/step - loss: 1.2416 - accuracy: 0.5812 - val_loss: 3.6651 - val_accuracy: 0.1028\n",
      "Epoch 41/100\n",
      "375/375 [==============================] - 2s 4ms/step - loss: 1.2199 - accuracy: 0.5881 - val_loss: 3.7224 - val_accuracy: 0.1006\n",
      "Epoch 42/100\n",
      "375/375 [==============================] - 2s 4ms/step - loss: 1.1995 - accuracy: 0.5952 - val_loss: 3.7497 - val_accuracy: 0.1072\n",
      "Epoch 43/100\n",
      "375/375 [==============================] - 2s 4ms/step - loss: 1.1802 - accuracy: 0.6022 - val_loss: 3.8110 - val_accuracy: 0.1031\n",
      "Epoch 44/100\n",
      "375/375 [==============================] - 2s 4ms/step - loss: 1.1592 - accuracy: 0.6090 - val_loss: 3.8817 - val_accuracy: 0.1050\n",
      "Epoch 45/100\n",
      "375/375 [==============================] - 2s 4ms/step - loss: 1.1401 - accuracy: 0.6151 - val_loss: 3.9207 - val_accuracy: 0.1017\n",
      "Epoch 46/100\n",
      "375/375 [==============================] - 2s 4ms/step - loss: 1.1218 - accuracy: 0.6242 - val_loss: 3.9637 - val_accuracy: 0.1021\n",
      "Epoch 47/100\n",
      "375/375 [==============================] - 2s 4ms/step - loss: 1.1026 - accuracy: 0.6307 - val_loss: 4.0279 - val_accuracy: 0.1004\n",
      "Epoch 48/100\n",
      "375/375 [==============================] - 2s 4ms/step - loss: 1.0865 - accuracy: 0.6359 - val_loss: 4.1122 - val_accuracy: 0.1022\n",
      "Epoch 49/100\n",
      "375/375 [==============================] - 2s 4ms/step - loss: 1.0686 - accuracy: 0.6416 - val_loss: 4.2020 - val_accuracy: 0.1047\n",
      "Epoch 50/100\n",
      "375/375 [==============================] - 2s 4ms/step - loss: 1.0510 - accuracy: 0.6476 - val_loss: 4.2007 - val_accuracy: 0.1018\n",
      "Epoch 51/100\n",
      "375/375 [==============================] - 2s 5ms/step - loss: 1.0338 - accuracy: 0.6558 - val_loss: 4.2318 - val_accuracy: 0.1018\n",
      "Epoch 52/100\n",
      "375/375 [==============================] - 2s 5ms/step - loss: 1.0183 - accuracy: 0.6600 - val_loss: 4.3175 - val_accuracy: 0.1012\n",
      "Epoch 53/100\n",
      "375/375 [==============================] - 2s 4ms/step - loss: 1.0039 - accuracy: 0.6639 - val_loss: 4.3728 - val_accuracy: 0.1018\n",
      "Epoch 54/100\n",
      "375/375 [==============================] - 2s 4ms/step - loss: 0.9849 - accuracy: 0.6709 - val_loss: 4.4382 - val_accuracy: 0.1022\n",
      "Epoch 55/100\n",
      "375/375 [==============================] - 2s 4ms/step - loss: 0.9716 - accuracy: 0.6767 - val_loss: 4.4896 - val_accuracy: 0.1047\n",
      "Epoch 56/100\n",
      "375/375 [==============================] - 2s 5ms/step - loss: 0.9559 - accuracy: 0.6834 - val_loss: 4.5503 - val_accuracy: 0.1009\n",
      "Epoch 57/100\n",
      "375/375 [==============================] - 2s 5ms/step - loss: 0.9404 - accuracy: 0.6873 - val_loss: 4.6233 - val_accuracy: 0.1011\n"
     ]
    },
    {
     "name": "stdout",
     "output_type": "stream",
     "text": [
      "Epoch 58/100\n",
      "375/375 [==============================] - 2s 5ms/step - loss: 0.9270 - accuracy: 0.6917 - val_loss: 4.6702 - val_accuracy: 0.1055\n",
      "Epoch 59/100\n",
      "375/375 [==============================] - 2s 5ms/step - loss: 0.9112 - accuracy: 0.6964 - val_loss: 4.7616 - val_accuracy: 0.1034\n",
      "Epoch 60/100\n",
      "375/375 [==============================] - 2s 4ms/step - loss: 0.8994 - accuracy: 0.7021 - val_loss: 4.7703 - val_accuracy: 0.1019\n",
      "Epoch 61/100\n",
      "375/375 [==============================] - 2s 4ms/step - loss: 0.8831 - accuracy: 0.7060 - val_loss: 4.8795 - val_accuracy: 0.1028\n",
      "Epoch 62/100\n",
      "375/375 [==============================] - 2s 4ms/step - loss: 0.8692 - accuracy: 0.7138 - val_loss: 4.9032 - val_accuracy: 0.1032\n",
      "Epoch 63/100\n",
      "375/375 [==============================] - 2s 4ms/step - loss: 0.8559 - accuracy: 0.7168 - val_loss: 4.9722 - val_accuracy: 0.1027\n",
      "Epoch 64/100\n",
      "375/375 [==============================] - 2s 4ms/step - loss: 0.8431 - accuracy: 0.7195 - val_loss: 5.0115 - val_accuracy: 0.1014\n",
      "Epoch 65/100\n",
      "375/375 [==============================] - 2s 4ms/step - loss: 0.8332 - accuracy: 0.7226 - val_loss: 5.1043 - val_accuracy: 0.1028\n",
      "Epoch 66/100\n",
      "375/375 [==============================] - 2s 4ms/step - loss: 0.8173 - accuracy: 0.7300 - val_loss: 5.1446 - val_accuracy: 0.1023\n",
      "Epoch 67/100\n",
      "375/375 [==============================] - 2s 4ms/step - loss: 0.8046 - accuracy: 0.7335 - val_loss: 5.2470 - val_accuracy: 0.1043\n",
      "Epoch 68/100\n",
      "375/375 [==============================] - 2s 4ms/step - loss: 0.7944 - accuracy: 0.7371 - val_loss: 5.2733 - val_accuracy: 0.1034\n",
      "Epoch 69/100\n",
      "375/375 [==============================] - 2s 5ms/step - loss: 0.7822 - accuracy: 0.7422 - val_loss: 5.3302 - val_accuracy: 0.0997\n",
      "Epoch 70/100\n",
      "375/375 [==============================] - 2s 5ms/step - loss: 0.7678 - accuracy: 0.7473 - val_loss: 5.3993 - val_accuracy: 0.1022\n",
      "Epoch 71/100\n",
      "375/375 [==============================] - 2s 6ms/step - loss: 0.7559 - accuracy: 0.7508 - val_loss: 5.4530 - val_accuracy: 0.1028\n",
      "Epoch 72/100\n",
      "375/375 [==============================] - 2s 5ms/step - loss: 0.7470 - accuracy: 0.7535 - val_loss: 5.6004 - val_accuracy: 0.0997\n",
      "Epoch 73/100\n",
      "375/375 [==============================] - 2s 5ms/step - loss: 0.7350 - accuracy: 0.7583 - val_loss: 5.5997 - val_accuracy: 0.1011\n",
      "Epoch 74/100\n",
      "375/375 [==============================] - 2s 5ms/step - loss: 0.7237 - accuracy: 0.7632 - val_loss: 5.6952 - val_accuracy: 0.1010\n",
      "Epoch 75/100\n",
      "375/375 [==============================] - 2s 5ms/step - loss: 0.7131 - accuracy: 0.7647 - val_loss: 5.7115 - val_accuracy: 0.1023\n",
      "Epoch 76/100\n",
      "375/375 [==============================] - 2s 5ms/step - loss: 0.7006 - accuracy: 0.7707 - val_loss: 5.8170 - val_accuracy: 0.1022\n",
      "Epoch 77/100\n",
      "375/375 [==============================] - 2s 5ms/step - loss: 0.6912 - accuracy: 0.7744 - val_loss: 5.8350 - val_accuracy: 0.1016\n",
      "Epoch 78/100\n",
      "375/375 [==============================] - 2s 5ms/step - loss: 0.6822 - accuracy: 0.7760 - val_loss: 5.9217 - val_accuracy: 0.1039\n",
      "Epoch 79/100\n",
      "375/375 [==============================] - 2s 4ms/step - loss: 0.6729 - accuracy: 0.7792 - val_loss: 5.9733 - val_accuracy: 0.1013\n",
      "Epoch 80/100\n",
      "375/375 [==============================] - 2s 4ms/step - loss: 0.6607 - accuracy: 0.7820 - val_loss: 6.0565 - val_accuracy: 0.1022\n",
      "Epoch 81/100\n",
      "375/375 [==============================] - 2s 4ms/step - loss: 0.6507 - accuracy: 0.7868 - val_loss: 6.1044 - val_accuracy: 0.1013\n",
      "Epoch 82/100\n",
      "375/375 [==============================] - 2s 4ms/step - loss: 0.6409 - accuracy: 0.7910 - val_loss: 6.1762 - val_accuracy: 0.1028\n",
      "Epoch 83/100\n",
      "375/375 [==============================] - 2s 4ms/step - loss: 0.6307 - accuracy: 0.7948 - val_loss: 6.2407 - val_accuracy: 0.1013\n",
      "Epoch 84/100\n",
      "375/375 [==============================] - 2s 4ms/step - loss: 0.6241 - accuracy: 0.7976 - val_loss: 6.2980 - val_accuracy: 0.1038\n",
      "Epoch 85/100\n",
      "375/375 [==============================] - 2s 4ms/step - loss: 0.6161 - accuracy: 0.7994 - val_loss: 6.4225 - val_accuracy: 0.1011\n",
      "Epoch 86/100\n",
      "375/375 [==============================] - 2s 4ms/step - loss: 0.6046 - accuracy: 0.8027 - val_loss: 6.4502 - val_accuracy: 0.0995\n",
      "Epoch 87/100\n",
      "375/375 [==============================] - 2s 4ms/step - loss: 0.5970 - accuracy: 0.8063 - val_loss: 6.5583 - val_accuracy: 0.1006\n",
      "Epoch 88/100\n",
      "375/375 [==============================] - 2s 4ms/step - loss: 0.5861 - accuracy: 0.8098 - val_loss: 6.6210 - val_accuracy: 0.0997\n",
      "Epoch 89/100\n",
      "375/375 [==============================] - 2s 5ms/step - loss: 0.5779 - accuracy: 0.8111 - val_loss: 6.6715 - val_accuracy: 0.0997\n",
      "Epoch 90/100\n",
      "375/375 [==============================] - 2s 5ms/step - loss: 0.5703 - accuracy: 0.8158 - val_loss: 6.7155 - val_accuracy: 0.1007\n",
      "Epoch 91/100\n",
      "375/375 [==============================] - 2s 6ms/step - loss: 0.5603 - accuracy: 0.8175 - val_loss: 6.7732 - val_accuracy: 0.1030\n",
      "Epoch 92/100\n",
      "375/375 [==============================] - 2s 6ms/step - loss: 0.5527 - accuracy: 0.8209 - val_loss: 6.8992 - val_accuracy: 0.0987\n",
      "Epoch 93/100\n",
      "375/375 [==============================] - 2s 5ms/step - loss: 0.5443 - accuracy: 0.8238 - val_loss: 6.9526 - val_accuracy: 0.1016\n",
      "Epoch 94/100\n",
      "375/375 [==============================] - 2s 6ms/step - loss: 0.5384 - accuracy: 0.8257 - val_loss: 6.9839 - val_accuracy: 0.1029\n",
      "Epoch 95/100\n",
      "375/375 [==============================] - 3s 7ms/step - loss: 0.5295 - accuracy: 0.8288 - val_loss: 7.0353 - val_accuracy: 0.1026\n",
      "Epoch 96/100\n",
      "375/375 [==============================] - 2s 5ms/step - loss: 0.5212 - accuracy: 0.8324 - val_loss: 7.1503 - val_accuracy: 0.1007\n",
      "Epoch 97/100\n",
      "375/375 [==============================] - 2s 5ms/step - loss: 0.5138 - accuracy: 0.8345 - val_loss: 7.2626 - val_accuracy: 0.1005\n",
      "Epoch 98/100\n",
      "375/375 [==============================] - 2s 5ms/step - loss: 0.5082 - accuracy: 0.8348 - val_loss: 7.2894 - val_accuracy: 0.1004\n",
      "Epoch 99/100\n",
      "375/375 [==============================] - 2s 5ms/step - loss: 0.5018 - accuracy: 0.8381 - val_loss: 7.3730 - val_accuracy: 0.1015\n",
      "Epoch 100/100\n",
      "375/375 [==============================] - 2s 5ms/step - loss: 0.4909 - accuracy: 0.8411 - val_loss: 7.4417 - val_accuracy: 0.1031\n"
     ]
    },
    {
     "data": {
      "text/plain": [
       "<keras.callbacks.History at 0x7fce45726c70>"
      ]
     },
     "execution_count": 4,
     "metadata": {},
     "output_type": "execute_result"
    }
   ],
   "source": [
    "(train_images, train_labels), _ = mnist.load_data()\n",
    "train_images = train_images.reshape((60000, 28 * 28))\n",
    "train_images = train_images.astype(\"float32\") / 255\n",
    "\n",
    "random_train_labels = train_labels[:]\n",
    "np.random.shuffle(random_train_labels)\n",
    "\n",
    "model = keras.Sequential([\n",
    "    layers.Dense(512, activation=\"relu\"),\n",
    "    layers.Dense(10, activation=\"softmax\")\n",
    "])\n",
    "model.compile(optimizer=\"rmsprop\",\n",
    "              loss=\"sparse_categorical_crossentropy\",\n",
    "              metrics=[\"accuracy\"])\n",
    "model.fit(train_images, random_train_labels,\n",
    "          epochs=100,\n",
    "          batch_size=128,\n",
    "          validation_split=0.2)"
   ]
  },
  {
   "cell_type": "markdown",
   "metadata": {
    "colab_type": "text"
   },
   "source": [
    "#### The manifold hypothesis"
   ]
  },
  {
   "cell_type": "markdown",
   "metadata": {
    "colab_type": "text"
   },
   "source": [
    "#### Interpolation as a source of generalization"
   ]
  },
  {
   "cell_type": "markdown",
   "metadata": {
    "colab_type": "text"
   },
   "source": [
    "#### Why deep learning works"
   ]
  },
  {
   "cell_type": "markdown",
   "metadata": {
    "colab_type": "text"
   },
   "source": [
    "#### Training data is paramount"
   ]
  },
  {
   "cell_type": "markdown",
   "metadata": {
    "colab_type": "text"
   },
   "source": [
    "## Evaluating machine-learning models"
   ]
  },
  {
   "cell_type": "markdown",
   "metadata": {
    "colab_type": "text"
   },
   "source": [
    "### Training, validation, and test sets"
   ]
  },
  {
   "cell_type": "markdown",
   "metadata": {
    "colab_type": "text"
   },
   "source": [
    "#### Simple hold-out validation"
   ]
  },
  {
   "cell_type": "markdown",
   "metadata": {
    "colab_type": "text"
   },
   "source": [
    "#### K-fold validation"
   ]
  },
  {
   "cell_type": "markdown",
   "metadata": {
    "colab_type": "text"
   },
   "source": [
    "#### Iterated K-fold validation with shuffling"
   ]
  },
  {
   "cell_type": "markdown",
   "metadata": {
    "colab_type": "text"
   },
   "source": [
    "### Beating a common-sense baseline"
   ]
  },
  {
   "cell_type": "markdown",
   "metadata": {
    "colab_type": "text"
   },
   "source": [
    "### Things to keep in mind about model evaluation"
   ]
  },
  {
   "cell_type": "markdown",
   "metadata": {
    "colab_type": "text"
   },
   "source": [
    "## Improving model fit"
   ]
  },
  {
   "cell_type": "markdown",
   "metadata": {
    "colab_type": "text"
   },
   "source": [
    "### Tuning key gradient descent parameters"
   ]
  },
  {
   "cell_type": "markdown",
   "metadata": {
    "colab_type": "text"
   },
   "source": [
    "**Training a MNIST model with an incorrectly high learning rate**"
   ]
  },
  {
   "cell_type": "code",
   "execution_count": 5,
   "metadata": {
    "colab_type": "code"
   },
   "outputs": [
    {
     "name": "stdout",
     "output_type": "stream",
     "text": [
      "Epoch 1/10\n",
      "375/375 [==============================] - 2s 5ms/step - loss: 756.5256 - accuracy: 0.4125 - val_loss: 2.2390 - val_accuracy: 0.2765\n",
      "Epoch 2/10\n",
      "375/375 [==============================] - 2s 4ms/step - loss: 5.2917 - accuracy: 0.2896 - val_loss: 2.4425 - val_accuracy: 0.3296\n",
      "Epoch 3/10\n",
      "375/375 [==============================] - 2s 5ms/step - loss: 3.5802 - accuracy: 0.2381 - val_loss: 2.1383 - val_accuracy: 0.2233\n",
      "Epoch 4/10\n",
      "375/375 [==============================] - 2s 5ms/step - loss: 3.2493 - accuracy: 0.2364 - val_loss: 3.3666 - val_accuracy: 0.3092\n",
      "Epoch 5/10\n",
      "375/375 [==============================] - 2s 5ms/step - loss: 4.2141 - accuracy: 0.2659 - val_loss: 4.0479 - val_accuracy: 0.2952\n",
      "Epoch 6/10\n",
      "375/375 [==============================] - 2s 4ms/step - loss: 2.5228 - accuracy: 0.2397 - val_loss: 5.9107 - val_accuracy: 0.2441\n",
      "Epoch 7/10\n",
      "375/375 [==============================] - 2s 5ms/step - loss: 2.8354 - accuracy: 0.2634 - val_loss: 2.0190 - val_accuracy: 0.2443\n",
      "Epoch 8/10\n",
      "375/375 [==============================] - 2s 5ms/step - loss: 2.3932 - accuracy: 0.2540 - val_loss: 2.9257 - val_accuracy: 0.2924\n",
      "Epoch 9/10\n",
      "375/375 [==============================] - 2s 5ms/step - loss: 2.6802 - accuracy: 0.2856 - val_loss: 2.0478 - val_accuracy: 0.2847\n",
      "Epoch 10/10\n",
      "375/375 [==============================] - 2s 5ms/step - loss: 2.4106 - accuracy: 0.2741 - val_loss: 3.8910 - val_accuracy: 0.3870\n"
     ]
    },
    {
     "data": {
      "text/plain": [
       "<keras.callbacks.History at 0x7fce05a13c70>"
      ]
     },
     "execution_count": 5,
     "metadata": {},
     "output_type": "execute_result"
    }
   ],
   "source": [
    "(train_images, train_labels), _ = mnist.load_data()\n",
    "train_images = train_images.reshape((60000, 28 * 28))\n",
    "train_images = train_images.astype(\"float32\") / 255\n",
    "\n",
    "model = keras.Sequential([\n",
    "    layers.Dense(512, activation=\"relu\"),\n",
    "    layers.Dense(10, activation=\"softmax\")\n",
    "])\n",
    "model.compile(optimizer=keras.optimizers.RMSprop(1.),\n",
    "              loss=\"sparse_categorical_crossentropy\",\n",
    "              metrics=[\"accuracy\"])\n",
    "model.fit(train_images, train_labels,\n",
    "          epochs=10,\n",
    "          batch_size=128,\n",
    "          validation_split=0.2)"
   ]
  },
  {
   "cell_type": "markdown",
   "metadata": {
    "colab_type": "text"
   },
   "source": [
    "**The same model with a more appropriate learning rate**"
   ]
  },
  {
   "cell_type": "code",
   "execution_count": 6,
   "metadata": {
    "colab_type": "code"
   },
   "outputs": [
    {
     "name": "stdout",
     "output_type": "stream",
     "text": [
      "Epoch 1/10\n",
      "375/375 [==============================] - 3s 5ms/step - loss: 0.3447 - accuracy: 0.9133 - val_loss: 0.1755 - val_accuracy: 0.9483\n",
      "Epoch 2/10\n",
      "375/375 [==============================] - 2s 5ms/step - loss: 0.1387 - accuracy: 0.9645 - val_loss: 0.1616 - val_accuracy: 0.9615\n",
      "Epoch 3/10\n",
      "375/375 [==============================] - 2s 5ms/step - loss: 0.1147 - accuracy: 0.9730 - val_loss: 0.1648 - val_accuracy: 0.9703\n",
      "Epoch 4/10\n",
      "375/375 [==============================] - 2s 5ms/step - loss: 0.1013 - accuracy: 0.9771 - val_loss: 0.1851 - val_accuracy: 0.9728\n",
      "Epoch 5/10\n",
      "375/375 [==============================] - 2s 4ms/step - loss: 0.0875 - accuracy: 0.9816 - val_loss: 0.2055 - val_accuracy: 0.9713\n",
      "Epoch 6/10\n",
      "375/375 [==============================] - 2s 4ms/step - loss: 0.0804 - accuracy: 0.9841 - val_loss: 0.2094 - val_accuracy: 0.9747\n",
      "Epoch 7/10\n",
      "375/375 [==============================] - 2s 4ms/step - loss: 0.0735 - accuracy: 0.9853 - val_loss: 0.2250 - val_accuracy: 0.9728\n",
      "Epoch 8/10\n",
      "375/375 [==============================] - 2s 4ms/step - loss: 0.0625 - accuracy: 0.9880 - val_loss: 0.2906 - val_accuracy: 0.9725\n",
      "Epoch 9/10\n",
      "375/375 [==============================] - 2s 4ms/step - loss: 0.0624 - accuracy: 0.9886 - val_loss: 0.3394 - val_accuracy: 0.9681\n",
      "Epoch 10/10\n",
      "375/375 [==============================] - 2s 4ms/step - loss: 0.0610 - accuracy: 0.9897 - val_loss: 0.2750 - val_accuracy: 0.9753\n"
     ]
    },
    {
     "data": {
      "text/plain": [
       "<keras.callbacks.History at 0x7fcdf947b850>"
      ]
     },
     "execution_count": 6,
     "metadata": {},
     "output_type": "execute_result"
    }
   ],
   "source": [
    "model = keras.Sequential([\n",
    "    layers.Dense(512, activation=\"relu\"),\n",
    "    layers.Dense(10, activation=\"softmax\")\n",
    "])\n",
    "model.compile(optimizer=keras.optimizers.RMSprop(1e-2),\n",
    "              loss=\"sparse_categorical_crossentropy\",\n",
    "              metrics=[\"accuracy\"])\n",
    "model.fit(train_images, train_labels,\n",
    "          epochs=10,\n",
    "          batch_size=128,\n",
    "          validation_split=0.2)"
   ]
  },
  {
   "cell_type": "markdown",
   "metadata": {
    "colab_type": "text"
   },
   "source": [
    "### Leveraging better architecture priors"
   ]
  },
  {
   "cell_type": "markdown",
   "metadata": {
    "colab_type": "text"
   },
   "source": [
    "### Increasing model capacity"
   ]
  },
  {
   "cell_type": "markdown",
   "metadata": {
    "colab_type": "text"
   },
   "source": [
    "**A simple logistic regression on MNIST**"
   ]
  },
  {
   "cell_type": "code",
   "execution_count": 7,
   "metadata": {
    "colab_type": "code"
   },
   "outputs": [
    {
     "name": "stdout",
     "output_type": "stream",
     "text": [
      "Epoch 1/20\n",
      "375/375 [==============================] - 1s 2ms/step - loss: 0.6602 - accuracy: 0.8406 - val_loss: 0.3599 - val_accuracy: 0.9027\n",
      "Epoch 2/20\n",
      "375/375 [==============================] - 1s 2ms/step - loss: 0.3499 - accuracy: 0.9039 - val_loss: 0.3067 - val_accuracy: 0.9147\n",
      "Epoch 3/20\n",
      "375/375 [==============================] - 1s 2ms/step - loss: 0.3148 - accuracy: 0.9125 - val_loss: 0.2906 - val_accuracy: 0.9176\n",
      "Epoch 4/20\n",
      "375/375 [==============================] - 1s 2ms/step - loss: 0.2989 - accuracy: 0.9171 - val_loss: 0.2802 - val_accuracy: 0.9218\n",
      "Epoch 5/20\n",
      "375/375 [==============================] - 1s 2ms/step - loss: 0.2893 - accuracy: 0.9184 - val_loss: 0.2765 - val_accuracy: 0.9232\n",
      "Epoch 6/20\n",
      "375/375 [==============================] - 1s 2ms/step - loss: 0.2827 - accuracy: 0.9210 - val_loss: 0.2715 - val_accuracy: 0.9250\n",
      "Epoch 7/20\n",
      "375/375 [==============================] - 1s 2ms/step - loss: 0.2779 - accuracy: 0.9223 - val_loss: 0.2687 - val_accuracy: 0.9277\n",
      "Epoch 8/20\n",
      "375/375 [==============================] - 1s 2ms/step - loss: 0.2739 - accuracy: 0.9243 - val_loss: 0.2663 - val_accuracy: 0.9272\n",
      "Epoch 9/20\n",
      "375/375 [==============================] - 1s 2ms/step - loss: 0.2714 - accuracy: 0.9246 - val_loss: 0.2666 - val_accuracy: 0.9266\n",
      "Epoch 10/20\n",
      "375/375 [==============================] - 1s 2ms/step - loss: 0.2684 - accuracy: 0.9253 - val_loss: 0.2643 - val_accuracy: 0.9290\n",
      "Epoch 11/20\n",
      "375/375 [==============================] - 1s 2ms/step - loss: 0.2667 - accuracy: 0.9266 - val_loss: 0.2641 - val_accuracy: 0.9287\n",
      "Epoch 12/20\n",
      "375/375 [==============================] - 1s 2ms/step - loss: 0.2645 - accuracy: 0.9271 - val_loss: 0.2629 - val_accuracy: 0.9285\n",
      "Epoch 13/20\n",
      "375/375 [==============================] - 1s 2ms/step - loss: 0.2633 - accuracy: 0.9279 - val_loss: 0.2630 - val_accuracy: 0.9296\n",
      "Epoch 14/20\n",
      "375/375 [==============================] - 1s 2ms/step - loss: 0.2615 - accuracy: 0.9280 - val_loss: 0.2619 - val_accuracy: 0.9300\n",
      "Epoch 15/20\n",
      "375/375 [==============================] - 1s 2ms/step - loss: 0.2602 - accuracy: 0.9286 - val_loss: 0.2606 - val_accuracy: 0.9312\n",
      "Epoch 16/20\n",
      "375/375 [==============================] - 1s 2ms/step - loss: 0.2589 - accuracy: 0.9290 - val_loss: 0.2614 - val_accuracy: 0.9298\n",
      "Epoch 17/20\n",
      "375/375 [==============================] - 1s 2ms/step - loss: 0.2581 - accuracy: 0.9298 - val_loss: 0.2601 - val_accuracy: 0.9327\n",
      "Epoch 18/20\n",
      "375/375 [==============================] - 1s 2ms/step - loss: 0.2570 - accuracy: 0.9293 - val_loss: 0.2617 - val_accuracy: 0.9314\n",
      "Epoch 19/20\n",
      "375/375 [==============================] - 1s 2ms/step - loss: 0.2563 - accuracy: 0.9300 - val_loss: 0.2613 - val_accuracy: 0.9296\n",
      "Epoch 20/20\n",
      "375/375 [==============================] - 1s 2ms/step - loss: 0.2555 - accuracy: 0.9299 - val_loss: 0.2610 - val_accuracy: 0.9317\n"
     ]
    }
   ],
   "source": [
    "model = keras.Sequential([layers.Dense(10, activation=\"softmax\")])\n",
    "model.compile(optimizer=\"rmsprop\",\n",
    "              loss=\"sparse_categorical_crossentropy\",\n",
    "              metrics=[\"accuracy\"])\n",
    "history_small_model = model.fit(\n",
    "    train_images, train_labels,\n",
    "    epochs=20,\n",
    "    batch_size=128,\n",
    "    validation_split=0.2)"
   ]
  },
  {
   "cell_type": "code",
   "execution_count": 8,
   "metadata": {
    "colab_type": "code"
   },
   "outputs": [
    {
     "data": {
      "text/plain": [
       "<matplotlib.legend.Legend at 0x7fcdf989f490>"
      ]
     },
     "execution_count": 8,
     "metadata": {},
     "output_type": "execute_result"
    },
    {
     "data": {
      "image/png": "[encoded data removed]",
      "text/plain": [
       "<Figure size 432x288 with 1 Axes>"
      ]
     },
     "metadata": {
      "needs_background": "light"
     },
     "output_type": "display_data"
    }
   ],
   "source": [
    "import matplotlib.pyplot as plt\n",
    "val_loss = history_small_model.history[\"val_loss\"]\n",
    "epochs = range(1, 21)\n",
    "plt.plot(epochs, val_loss, \"b--\",\n",
    "         label=\"Validation loss\")\n",
    "plt.title(\"Effect of insufficient model capacity on validation loss\")\n",
    "plt.xlabel(\"Epochs\")\n",
    "plt.ylabel(\"Loss\")\n",
    "plt.legend()"
   ]
  },
  {
   "cell_type": "code",
   "execution_count": 9,
   "metadata": {
    "colab_type": "code"
   },
   "outputs": [
    {
     "name": "stdout",
     "output_type": "stream",
     "text": [
      "Epoch 1/20\n",
      "375/375 [==============================] - 3s 5ms/step - loss: 0.3595 - accuracy: 0.8982 - val_loss: 0.1844 - val_accuracy: 0.9482\n",
      "Epoch 2/20\n",
      "375/375 [==============================] - 1s 3ms/step - loss: 0.1659 - accuracy: 0.9503 - val_loss: 0.1501 - val_accuracy: 0.9545\n",
      "Epoch 3/20\n",
      "375/375 [==============================] - 1s 3ms/step - loss: 0.1184 - accuracy: 0.9652 - val_loss: 0.1194 - val_accuracy: 0.9643\n",
      "Epoch 4/20\n",
      "375/375 [==============================] - 1s 3ms/step - loss: 0.0924 - accuracy: 0.9726 - val_loss: 0.1078 - val_accuracy: 0.9669\n",
      "Epoch 5/20\n",
      "375/375 [==============================] - 1s 3ms/step - loss: 0.0745 - accuracy: 0.9778 - val_loss: 0.1084 - val_accuracy: 0.9672\n",
      "Epoch 6/20\n",
      "375/375 [==============================] - 2s 4ms/step - loss: 0.0604 - accuracy: 0.9817 - val_loss: 0.0952 - val_accuracy: 0.9732\n",
      "Epoch 7/20\n",
      "375/375 [==============================] - 2s 4ms/step - loss: 0.0501 - accuracy: 0.9849 - val_loss: 0.0988 - val_accuracy: 0.9728\n",
      "Epoch 8/20\n",
      "375/375 [==============================] - 1s 4ms/step - loss: 0.0419 - accuracy: 0.9868 - val_loss: 0.1002 - val_accuracy: 0.9734\n",
      "Epoch 9/20\n",
      "375/375 [==============================] - 2s 4ms/step - loss: 0.0353 - accuracy: 0.9890 - val_loss: 0.0907 - val_accuracy: 0.9743\n",
      "Epoch 10/20\n",
      "375/375 [==============================] - 2s 5ms/step - loss: 0.0310 - accuracy: 0.9904 - val_loss: 0.1086 - val_accuracy: 0.9722\n",
      "Epoch 11/20\n",
      "375/375 [==============================] - 2s 5ms/step - loss: 0.0259 - accuracy: 0.9920 - val_loss: 0.1030 - val_accuracy: 0.9747\n",
      "Epoch 12/20\n",
      "375/375 [==============================] - 2s 4ms/step - loss: 0.0219 - accuracy: 0.9932 - val_loss: 0.1213 - val_accuracy: 0.9703\n",
      "Epoch 13/20\n",
      "375/375 [==============================] - 1s 3ms/step - loss: 0.0192 - accuracy: 0.9940 - val_loss: 0.1114 - val_accuracy: 0.9748\n",
      "Epoch 14/20\n",
      "375/375 [==============================] - 1s 3ms/step - loss: 0.0159 - accuracy: 0.9953 - val_loss: 0.1185 - val_accuracy: 0.9737\n",
      "Epoch 15/20\n",
      "375/375 [==============================] - 1s 3ms/step - loss: 0.0133 - accuracy: 0.9960 - val_loss: 0.1271 - val_accuracy: 0.9713\n",
      "Epoch 16/20\n",
      "375/375 [==============================] - 1s 3ms/step - loss: 0.0124 - accuracy: 0.9966 - val_loss: 0.1246 - val_accuracy: 0.9733\n",
      "Epoch 17/20\n",
      "375/375 [==============================] - 1s 4ms/step - loss: 0.0099 - accuracy: 0.9970 - val_loss: 0.1379 - val_accuracy: 0.9735\n",
      "Epoch 18/20\n",
      "375/375 [==============================] - 2s 5ms/step - loss: 0.0091 - accuracy: 0.9971 - val_loss: 0.1325 - val_accuracy: 0.9754\n",
      "Epoch 19/20\n",
      "375/375 [==============================] - 1s 3ms/step - loss: 0.0077 - accuracy: 0.9978 - val_loss: 0.1372 - val_accuracy: 0.9753\n",
      "Epoch 20/20\n",
      "375/375 [==============================] - 1s 3ms/step - loss: 0.0072 - accuracy: 0.9977 - val_loss: 0.1540 - val_accuracy: 0.9743\n"
     ]
    }
   ],
   "source": [
    "model = keras.Sequential([\n",
    "    layers.Dense(96, activation=\"relu\"),\n",
    "    layers.Dense(96, activation=\"relu\"),\n",
    "    layers.Dense(10, activation=\"softmax\"),\n",
    "])\n",
    "model.compile(optimizer=\"rmsprop\",\n",
    "              loss=\"sparse_categorical_crossentropy\",\n",
    "              metrics=[\"accuracy\"])\n",
    "history_large_model = model.fit(\n",
    "    train_images, train_labels,\n",
    "    epochs=20,\n",
    "    batch_size=128,\n",
    "    validation_split=0.2)"
   ]
  },
  {
   "cell_type": "markdown",
   "metadata": {
    "colab_type": "text"
   },
   "source": [
    "## Improving generalization"
   ]
  },
  {
   "cell_type": "markdown",
   "metadata": {
    "colab_type": "text"
   },
   "source": [
    "### Dataset curation"
   ]
  },
  {
   "cell_type": "markdown",
   "metadata": {
    "colab_type": "text"
   },
   "source": [
    "### Feature engineering"
   ]
  },
  {
   "cell_type": "markdown",
   "metadata": {
    "colab_type": "text"
   },
   "source": [
    "### Using early stopping"
   ]
  },
  {
   "cell_type": "markdown",
   "metadata": {
    "colab_type": "text"
   },
   "source": [
    "### Regularizing your model"
   ]
  },
  {
   "cell_type": "markdown",
   "metadata": {
    "colab_type": "text"
   },
   "source": [
    "#### Reducing the network's size"
   ]
  },
  {
   "cell_type": "markdown",
   "metadata": {
    "colab_type": "text"
   },
   "source": [
    "**Original model**"
   ]
  },
  {
   "cell_type": "code",
   "execution_count": 10,
   "metadata": {
    "colab_type": "code"
   },
   "outputs": [
    {
     "name": "stdout",
     "output_type": "stream",
     "text": [
      "Epoch 1/20\n",
      "30/30 [==============================] - 4s 92ms/step - loss: 0.5298 - accuracy: 0.7765 - val_loss: 0.3955 - val_accuracy: 0.8698\n",
      "Epoch 2/20\n",
      "30/30 [==============================] - 1s 36ms/step - loss: 0.3172 - accuracy: 0.9024 - val_loss: 0.3152 - val_accuracy: 0.8847\n",
      "Epoch 3/20\n",
      "30/30 [==============================] - 1s 22ms/step - loss: 0.2288 - accuracy: 0.9299 - val_loss: 0.2828 - val_accuracy: 0.8908\n",
      "Epoch 4/20\n",
      "30/30 [==============================] - 1s 20ms/step - loss: 0.1810 - accuracy: 0.9415 - val_loss: 0.2765 - val_accuracy: 0.8910\n",
      "Epoch 5/20\n",
      "30/30 [==============================] - 1s 22ms/step - loss: 0.1484 - accuracy: 0.9538 - val_loss: 0.2902 - val_accuracy: 0.8852\n",
      "Epoch 6/20\n",
      "30/30 [==============================] - 1s 21ms/step - loss: 0.1188 - accuracy: 0.9637 - val_loss: 0.3007 - val_accuracy: 0.8853\n",
      "Epoch 7/20\n",
      "30/30 [==============================] - 1s 20ms/step - loss: 0.0975 - accuracy: 0.9695 - val_loss: 0.3303 - val_accuracy: 0.8798\n",
      "Epoch 8/20\n",
      "30/30 [==============================] - 1s 18ms/step - loss: 0.0820 - accuracy: 0.9773 - val_loss: 0.3397 - val_accuracy: 0.8829\n",
      "Epoch 9/20\n",
      "30/30 [==============================] - 1s 21ms/step - loss: 0.0694 - accuracy: 0.9803 - val_loss: 0.3958 - val_accuracy: 0.8692\n",
      "Epoch 10/20\n",
      "30/30 [==============================] - 1s 20ms/step - loss: 0.0562 - accuracy: 0.9851 - val_loss: 0.3892 - val_accuracy: 0.8777\n",
      "Epoch 11/20\n",
      "30/30 [==============================] - 1s 19ms/step - loss: 0.0473 - accuracy: 0.9889 - val_loss: 0.4381 - val_accuracy: 0.8704\n",
      "Epoch 12/20\n",
      "30/30 [==============================] - 1s 27ms/step - loss: 0.0404 - accuracy: 0.9899 - val_loss: 0.4469 - val_accuracy: 0.8737\n",
      "Epoch 13/20\n",
      "30/30 [==============================] - 1s 20ms/step - loss: 0.0348 - accuracy: 0.9921 - val_loss: 0.4798 - val_accuracy: 0.8712\n",
      "Epoch 14/20\n",
      "30/30 [==============================] - 1s 20ms/step - loss: 0.0287 - accuracy: 0.9946 - val_loss: 0.4996 - val_accuracy: 0.8700\n",
      "Epoch 15/20\n",
      "30/30 [==============================] - 1s 22ms/step - loss: 0.0283 - accuracy: 0.9929 - val_loss: 0.5317 - val_accuracy: 0.8687\n",
      "Epoch 16/20\n",
      "30/30 [==============================] - 1s 18ms/step - loss: 0.0157 - accuracy: 0.9980 - val_loss: 0.5931 - val_accuracy: 0.8605\n",
      "Epoch 17/20\n",
      "30/30 [==============================] - 0s 17ms/step - loss: 0.0201 - accuracy: 0.9951 - val_loss: 0.5998 - val_accuracy: 0.8686\n",
      "Epoch 18/20\n",
      "30/30 [==============================] - 1s 22ms/step - loss: 0.0100 - accuracy: 0.9990 - val_loss: 0.6148 - val_accuracy: 0.8650\n",
      "Epoch 19/20\n",
      "30/30 [==============================] - 1s 21ms/step - loss: 0.0124 - accuracy: 0.9977 - val_loss: 0.6507 - val_accuracy: 0.8656\n",
      "Epoch 20/20\n",
      "30/30 [==============================] - 1s 22ms/step - loss: 0.0088 - accuracy: 0.9989 - val_loss: 0.6922 - val_accuracy: 0.8656\n"
     ]
    }
   ],
   "source": [
    "from tensorflow.keras.datasets import imdb\n",
    "(train_data, train_labels), _ = imdb.load_data(num_words=10000)\n",
    "\n",
    "def vectorize_sequences(sequences, dimension=10000):\n",
    "    results = np.zeros((len(sequences), dimension))\n",
    "    for i, sequence in enumerate(sequences):\n",
    "        results[i, sequence] = 1.\n",
    "    return results\n",
    "train_data = vectorize_sequences(train_data)\n",
    "\n",
    "model = keras.Sequential([\n",
    "    layers.Dense(16, activation=\"relu\"),\n",
    "    layers.Dense(16, activation=\"relu\"),\n",
    "    layers.Dense(1, activation=\"sigmoid\")\n",
    "])\n",
    "model.compile(optimizer=\"rmsprop\",\n",
    "              loss=\"binary_crossentropy\",\n",
    "              metrics=[\"accuracy\"])\n",
    "history_original = model.fit(train_data, train_labels,\n",
    "                             epochs=20, batch_size=512, validation_split=0.4)"
   ]
  },
  {
   "cell_type": "markdown",
   "metadata": {
    "colab_type": "text"
   },
   "source": [
    "**Version of the model with lower capacity**"
   ]
  },
  {
   "cell_type": "code",
   "execution_count": 11,
   "metadata": {
    "colab_type": "code"
   },
   "outputs": [
    {
     "name": "stdout",
     "output_type": "stream",
     "text": [
      "Epoch 1/20\n",
      "30/30 [==============================] - 4s 89ms/step - loss: 0.6589 - accuracy: 0.6025 - val_loss: 0.6292 - val_accuracy: 0.6389\n",
      "Epoch 2/20\n",
      "30/30 [==============================] - 1s 31ms/step - loss: 0.6015 - accuracy: 0.7155 - val_loss: 0.5866 - val_accuracy: 0.7391\n",
      "Epoch 3/20\n",
      "30/30 [==============================] - 0s 15ms/step - loss: 0.5571 - accuracy: 0.7760 - val_loss: 0.5529 - val_accuracy: 0.7735\n",
      "Epoch 4/20\n",
      "30/30 [==============================] - 0s 14ms/step - loss: 0.5199 - accuracy: 0.8163 - val_loss: 0.5256 - val_accuracy: 0.8240\n",
      "Epoch 5/20\n",
      "30/30 [==============================] - 1s 19ms/step - loss: 0.4888 - accuracy: 0.8497 - val_loss: 0.5044 - val_accuracy: 0.8240\n",
      "Epoch 6/20\n",
      "30/30 [==============================] - 1s 24ms/step - loss: 0.4618 - accuracy: 0.8714 - val_loss: 0.4870 - val_accuracy: 0.8376\n",
      "Epoch 7/20\n",
      "30/30 [==============================] - 1s 17ms/step - loss: 0.4383 - accuracy: 0.8905 - val_loss: 0.4710 - val_accuracy: 0.8677\n",
      "Epoch 8/20\n",
      "30/30 [==============================] - 1s 19ms/step - loss: 0.4176 - accuracy: 0.9055 - val_loss: 0.4679 - val_accuracy: 0.8406\n",
      "Epoch 9/20\n",
      "30/30 [==============================] - 1s 18ms/step - loss: 0.3990 - accuracy: 0.9156 - val_loss: 0.4548 - val_accuracy: 0.8589\n",
      "Epoch 10/20\n",
      "30/30 [==============================] - 1s 17ms/step - loss: 0.3821 - accuracy: 0.9257 - val_loss: 0.4453 - val_accuracy: 0.8691\n",
      "Epoch 11/20\n",
      "30/30 [==============================] - 1s 17ms/step - loss: 0.3664 - accuracy: 0.9343 - val_loss: 0.4443 - val_accuracy: 0.8644\n",
      "Epoch 12/20\n",
      "30/30 [==============================] - 0s 17ms/step - loss: 0.3516 - accuracy: 0.9418 - val_loss: 0.4511 - val_accuracy: 0.8580\n",
      "Epoch 13/20\n",
      "30/30 [==============================] - 0s 17ms/step - loss: 0.3383 - accuracy: 0.9476 - val_loss: 0.4327 - val_accuracy: 0.8751\n",
      "Epoch 14/20\n",
      "30/30 [==============================] - 1s 17ms/step - loss: 0.3254 - accuracy: 0.9548 - val_loss: 0.4303 - val_accuracy: 0.8750\n",
      "Epoch 15/20\n",
      "30/30 [==============================] - 1s 17ms/step - loss: 0.3134 - accuracy: 0.9597 - val_loss: 0.4339 - val_accuracy: 0.8742\n",
      "Epoch 16/20\n",
      "30/30 [==============================] - 1s 17ms/step - loss: 0.3025 - accuracy: 0.9634 - val_loss: 0.4468 - val_accuracy: 0.8683\n",
      "Epoch 17/20\n",
      "30/30 [==============================] - 1s 21ms/step - loss: 0.2917 - accuracy: 0.9675 - val_loss: 0.4447 - val_accuracy: 0.8710\n",
      "Epoch 18/20\n",
      "30/30 [==============================] - 1s 17ms/step - loss: 0.2815 - accuracy: 0.9706 - val_loss: 0.4356 - val_accuracy: 0.8762\n",
      "Epoch 19/20\n",
      "30/30 [==============================] - 1s 17ms/step - loss: 0.2722 - accuracy: 0.9739 - val_loss: 0.4475 - val_accuracy: 0.8727\n",
      "Epoch 20/20\n",
      "30/30 [==============================] - 0s 16ms/step - loss: 0.2630 - accuracy: 0.9771 - val_loss: 0.4753 - val_accuracy: 0.8626\n"
     ]
    }
   ],
   "source": [
    "model = keras.Sequential([\n",
    "    layers.Dense(4, activation=\"relu\"),\n",
    "    layers.Dense(4, activation=\"relu\"),\n",
    "    layers.Dense(1, activation=\"sigmoid\")\n",
    "])\n",
    "model.compile(optimizer=\"rmsprop\",\n",
    "              loss=\"binary_crossentropy\",\n",
    "              metrics=[\"accuracy\"])\n",
    "history_smaller_model = model.fit(\n",
    "    train_data, train_labels,\n",
    "    epochs=20, batch_size=512, validation_split=0.4)"
   ]
  },
  {
   "cell_type": "markdown",
   "metadata": {
    "colab_type": "text"
   },
   "source": [
    "**Version of the model with higher capacity**"
   ]
  },
  {
   "cell_type": "code",
   "execution_count": 18,
   "metadata": {
    "colab_type": "code"
   },
   "outputs": [
    {
     "name": "stdout",
     "output_type": "stream",
     "text": [
      "Epoch 1/20\n",
      "15/15 [==============================] - 4s 240ms/step - loss: 0.6571 - accuracy: 0.6983 - val_loss: 0.4631 - val_accuracy: 0.7794\n",
      "Epoch 2/20\n",
      "15/15 [==============================] - 2s 140ms/step - loss: 0.4078 - accuracy: 0.8319 - val_loss: 0.2956 - val_accuracy: 0.8873\n",
      "Epoch 3/20\n",
      "15/15 [==============================] - 2s 142ms/step - loss: 0.2841 - accuracy: 0.8966 - val_loss: 0.2690 - val_accuracy: 0.8934\n",
      "Epoch 4/20\n",
      "15/15 [==============================] - 3s 173ms/step - loss: 0.1675 - accuracy: 0.9393 - val_loss: 0.2776 - val_accuracy: 0.8954\n",
      "Epoch 5/20\n",
      "15/15 [==============================] - 2s 155ms/step - loss: 0.1227 - accuracy: 0.9533 - val_loss: 0.3141 - val_accuracy: 0.8857\n",
      "Epoch 6/20\n",
      "15/15 [==============================] - 3s 186ms/step - loss: 0.1361 - accuracy: 0.9513 - val_loss: 0.2771 - val_accuracy: 0.8901\n",
      "Epoch 7/20\n",
      "15/15 [==============================] - 2s 158ms/step - loss: 0.0204 - accuracy: 0.9976 - val_loss: 0.3819 - val_accuracy: 0.8899\n",
      "Epoch 8/20\n",
      "15/15 [==============================] - 2s 156ms/step - loss: 0.0038 - accuracy: 0.9995 - val_loss: 0.5030 - val_accuracy: 0.8834\n",
      "Epoch 9/20\n",
      "15/15 [==============================] - 2s 145ms/step - loss: 9.2529e-04 - accuracy: 0.9999 - val_loss: 0.5127 - val_accuracy: 0.8877\n",
      "Epoch 10/20\n",
      "15/15 [==============================] - 2s 136ms/step - loss: 2.3773e-04 - accuracy: 1.0000 - val_loss: 0.5654 - val_accuracy: 0.8865\n",
      "Epoch 11/20\n",
      "15/15 [==============================] - 2s 138ms/step - loss: 8.4625e-05 - accuracy: 1.0000 - val_loss: 0.6254 - val_accuracy: 0.8871\n",
      "Epoch 12/20\n",
      "15/15 [==============================] - 2s 135ms/step - loss: 3.4202e-05 - accuracy: 1.0000 - val_loss: 0.6701 - val_accuracy: 0.8872\n",
      "Epoch 13/20\n",
      "15/15 [==============================] - 2s 126ms/step - loss: 1.4791e-05 - accuracy: 1.0000 - val_loss: 0.7130 - val_accuracy: 0.8863\n",
      "Epoch 14/20\n",
      "15/15 [==============================] - 2s 127ms/step - loss: 6.6882e-06 - accuracy: 1.0000 - val_loss: 0.7540 - val_accuracy: 0.8862\n",
      "Epoch 15/20\n",
      "15/15 [==============================] - 2s 129ms/step - loss: 3.4774e-06 - accuracy: 1.0000 - val_loss: 0.8644 - val_accuracy: 0.8833\n",
      "Epoch 16/20\n",
      "15/15 [==============================] - 2s 127ms/step - loss: 0.8992 - accuracy: 0.9576 - val_loss: 0.6091 - val_accuracy: 0.8863\n",
      "Epoch 17/20\n",
      "15/15 [==============================] - 2s 129ms/step - loss: 3.5830e-05 - accuracy: 1.0000 - val_loss: 0.6154 - val_accuracy: 0.8861\n",
      "Epoch 18/20\n",
      "15/15 [==============================] - 2s 133ms/step - loss: 2.8555e-05 - accuracy: 1.0000 - val_loss: 0.6219 - val_accuracy: 0.8862\n",
      "Epoch 19/20\n",
      "15/15 [==============================] - 2s 135ms/step - loss: 2.3387e-05 - accuracy: 1.0000 - val_loss: 0.6278 - val_accuracy: 0.8858\n",
      "Epoch 20/20\n",
      "15/15 [==============================] - 2s 138ms/step - loss: 1.8403e-05 - accuracy: 1.0000 - val_loss: 0.6374 - val_accuracy: 0.8860\n"
     ]
    }
   ],
   "source": [
    "model = keras.Sequential([\n",
    "    layers.Dense(512, activation=\"relu\"),\n",
    "    layers.Dense(512, activation=\"relu\"),\n",
    "    layers.Dense(1, activation=\"sigmoid\")\n",
    "])\n",
    "model.compile(optimizer=\"rmsprop\",\n",
    "              loss=\"binary_crossentropy\",\n",
    "              metrics=[\"accuracy\"])\n",
    "history_larger_model = model.fit(\n",
    "    train_data, train_labels,\n",
    "    epochs=20, batch_size=1024, validation_split=0.4)"
   ]
  },
  {
   "cell_type": "markdown",
   "metadata": {
    "colab_type": "text"
   },
   "source": [
    "#### Adding weight regularization"
   ]
  },
  {
   "cell_type": "markdown",
   "metadata": {
    "colab_type": "text"
   },
   "source": [
    "**Adding L2 weight regularization to the model**"
   ]
  },
  {
   "cell_type": "code",
   "execution_count": 13,
   "metadata": {
    "colab_type": "code"
   },
   "outputs": [
    {
     "name": "stdout",
     "output_type": "stream",
     "text": [
      "Epoch 1/20\n",
      "30/30 [==============================] - 3s 66ms/step - loss: 0.6077 - accuracy: 0.7729 - val_loss: 0.4832 - val_accuracy: 0.8696\n",
      "Epoch 2/20\n",
      "30/30 [==============================] - 1s 22ms/step - loss: 0.4179 - accuracy: 0.8907 - val_loss: 0.3997 - val_accuracy: 0.8821\n",
      "Epoch 3/20\n",
      "30/30 [==============================] - 0s 15ms/step - loss: 0.3438 - accuracy: 0.9127 - val_loss: 0.3684 - val_accuracy: 0.8883\n",
      "Epoch 4/20\n",
      "30/30 [==============================] - 0s 14ms/step - loss: 0.3058 - accuracy: 0.9229 - val_loss: 0.3910 - val_accuracy: 0.8707\n",
      "Epoch 5/20\n",
      "30/30 [==============================] - 0s 15ms/step - loss: 0.2828 - accuracy: 0.9315 - val_loss: 0.3813 - val_accuracy: 0.8761\n",
      "Epoch 6/20\n",
      "30/30 [==============================] - 0s 17ms/step - loss: 0.2691 - accuracy: 0.9375 - val_loss: 0.3601 - val_accuracy: 0.8863\n",
      "Epoch 7/20\n",
      "30/30 [==============================] - 0s 16ms/step - loss: 0.2568 - accuracy: 0.9404 - val_loss: 0.3671 - val_accuracy: 0.8834\n",
      "Epoch 8/20\n",
      "30/30 [==============================] - 0s 16ms/step - loss: 0.2515 - accuracy: 0.9406 - val_loss: 0.4105 - val_accuracy: 0.8671\n",
      "Epoch 9/20\n",
      "30/30 [==============================] - 0s 15ms/step - loss: 0.2413 - accuracy: 0.9453 - val_loss: 0.3675 - val_accuracy: 0.8824\n",
      "Epoch 10/20\n",
      "30/30 [==============================] - 0s 15ms/step - loss: 0.2375 - accuracy: 0.9463 - val_loss: 0.3735 - val_accuracy: 0.8800\n",
      "Epoch 11/20\n",
      "30/30 [==============================] - 0s 15ms/step - loss: 0.2322 - accuracy: 0.9489 - val_loss: 0.4057 - val_accuracy: 0.8702\n",
      "Epoch 12/20\n",
      "30/30 [==============================] - 0s 15ms/step - loss: 0.2313 - accuracy: 0.9473 - val_loss: 0.4200 - val_accuracy: 0.8678\n",
      "Epoch 13/20\n",
      "30/30 [==============================] - 0s 14ms/step - loss: 0.2204 - accuracy: 0.9542 - val_loss: 0.4021 - val_accuracy: 0.8758\n",
      "Epoch 14/20\n",
      "30/30 [==============================] - 0s 14ms/step - loss: 0.2240 - accuracy: 0.9506 - val_loss: 0.3913 - val_accuracy: 0.8766\n",
      "Epoch 15/20\n",
      "30/30 [==============================] - 0s 14ms/step - loss: 0.2148 - accuracy: 0.9560 - val_loss: 0.4148 - val_accuracy: 0.8734\n",
      "Epoch 16/20\n",
      "30/30 [==============================] - 0s 15ms/step - loss: 0.2173 - accuracy: 0.9537 - val_loss: 0.4750 - val_accuracy: 0.8567\n",
      "Epoch 17/20\n",
      "30/30 [==============================] - 0s 14ms/step - loss: 0.2132 - accuracy: 0.9542 - val_loss: 0.4092 - val_accuracy: 0.8763\n",
      "Epoch 18/20\n",
      "30/30 [==============================] - 0s 14ms/step - loss: 0.2093 - accuracy: 0.9568 - val_loss: 0.4058 - val_accuracy: 0.8754\n",
      "Epoch 19/20\n",
      "30/30 [==============================] - 0s 14ms/step - loss: 0.2127 - accuracy: 0.9550 - val_loss: 0.4390 - val_accuracy: 0.8675\n",
      "Epoch 20/20\n",
      "30/30 [==============================] - 0s 14ms/step - loss: 0.2012 - accuracy: 0.9605 - val_loss: 0.4107 - val_accuracy: 0.8739\n"
     ]
    }
   ],
   "source": [
    "from tensorflow.keras import regularizers\n",
    "model = keras.Sequential([\n",
    "    layers.Dense(16,\n",
    "                 kernel_regularizer=regularizers.l2(0.002),\n",
    "                 activation=\"relu\"),\n",
    "    layers.Dense(16,\n",
    "                 kernel_regularizer=regularizers.l2(0.002),\n",
    "                 activation=\"relu\"),\n",
    "    layers.Dense(1, activation=\"sigmoid\")\n",
    "])\n",
    "model.compile(optimizer=\"rmsprop\",\n",
    "              loss=\"binary_crossentropy\",\n",
    "              metrics=[\"accuracy\"])\n",
    "history_l2_reg = model.fit(\n",
    "    train_data, train_labels,\n",
    "    epochs=20, batch_size=512, validation_split=0.4)"
   ]
  },
  {
   "cell_type": "markdown",
   "metadata": {
    "colab_type": "text"
   },
   "source": [
    "**Different weight regularizers available in Keras**"
   ]
  },
  {
   "cell_type": "code",
   "execution_count": 14,
   "metadata": {
    "colab_type": "code"
   },
   "outputs": [
    {
     "data": {
      "text/plain": [
       "<keras.regularizers.L1L2 at 0x7fce038d1a00>"
      ]
     },
     "execution_count": 14,
     "metadata": {},
     "output_type": "execute_result"
    }
   ],
   "source": [
    "from tensorflow.keras import regularizers\n",
    "regularizers.l1(0.001)\n",
    "regularizers.l1_l2(l1=0.001, l2=0.001)"
   ]
  },
  {
   "cell_type": "markdown",
   "metadata": {
    "colab_type": "text"
   },
   "source": [
    "#### Adding dropout"
   ]
  },
  {
   "cell_type": "markdown",
   "metadata": {
    "colab_type": "text"
   },
   "source": [
    "**Adding dropout to the IMDB model**"
   ]
  },
  {
   "cell_type": "code",
   "execution_count": 15,
   "metadata": {
    "colab_type": "code"
   },
   "outputs": [
    {
     "name": "stdout",
     "output_type": "stream",
     "text": [
      "Epoch 1/20\n",
      "30/30 [==============================] - 3s 71ms/step - loss: 0.6254 - accuracy: 0.6475 - val_loss: 0.5096 - val_accuracy: 0.8555\n",
      "Epoch 2/20\n",
      "30/30 [==============================] - 1s 17ms/step - loss: 0.4988 - accuracy: 0.7773 - val_loss: 0.3993 - val_accuracy: 0.8652\n",
      "Epoch 3/20\n",
      "30/30 [==============================] - 0s 16ms/step - loss: 0.4157 - accuracy: 0.8366 - val_loss: 0.3310 - val_accuracy: 0.8847\n",
      "Epoch 4/20\n",
      "30/30 [==============================] - 0s 16ms/step - loss: 0.3560 - accuracy: 0.8699 - val_loss: 0.3035 - val_accuracy: 0.8884\n",
      "Epoch 5/20\n",
      "30/30 [==============================] - 0s 15ms/step - loss: 0.3178 - accuracy: 0.8892 - val_loss: 0.2887 - val_accuracy: 0.8868\n",
      "Epoch 6/20\n",
      "30/30 [==============================] - 0s 15ms/step - loss: 0.2740 - accuracy: 0.9118 - val_loss: 0.2760 - val_accuracy: 0.8933\n",
      "Epoch 7/20\n",
      "30/30 [==============================] - 0s 17ms/step - loss: 0.2476 - accuracy: 0.9227 - val_loss: 0.2889 - val_accuracy: 0.8886\n",
      "Epoch 8/20\n",
      "30/30 [==============================] - 1s 17ms/step - loss: 0.2123 - accuracy: 0.9333 - val_loss: 0.2920 - val_accuracy: 0.8856\n",
      "Epoch 9/20\n",
      "30/30 [==============================] - 0s 15ms/step - loss: 0.1901 - accuracy: 0.9400 - val_loss: 0.2985 - val_accuracy: 0.8916\n",
      "Epoch 10/20\n",
      "30/30 [==============================] - 0s 15ms/step - loss: 0.1694 - accuracy: 0.9489 - val_loss: 0.3179 - val_accuracy: 0.8912\n",
      "Epoch 11/20\n",
      "30/30 [==============================] - 0s 15ms/step - loss: 0.1552 - accuracy: 0.9520 - val_loss: 0.3645 - val_accuracy: 0.8858\n",
      "Epoch 12/20\n",
      "30/30 [==============================] - 0s 15ms/step - loss: 0.1421 - accuracy: 0.9577 - val_loss: 0.3985 - val_accuracy: 0.8825\n",
      "Epoch 13/20\n",
      "30/30 [==============================] - 0s 14ms/step - loss: 0.1270 - accuracy: 0.9621 - val_loss: 0.3823 - val_accuracy: 0.8869\n",
      "Epoch 14/20\n",
      "30/30 [==============================] - 0s 14ms/step - loss: 0.1204 - accuracy: 0.9631 - val_loss: 0.4109 - val_accuracy: 0.8888\n",
      "Epoch 15/20\n",
      "30/30 [==============================] - 0s 14ms/step - loss: 0.1034 - accuracy: 0.9695 - val_loss: 0.4184 - val_accuracy: 0.8855\n",
      "Epoch 16/20\n",
      "30/30 [==============================] - 0s 14ms/step - loss: 0.1025 - accuracy: 0.9681 - val_loss: 0.4649 - val_accuracy: 0.8894\n",
      "Epoch 17/20\n",
      "30/30 [==============================] - 0s 14ms/step - loss: 0.0990 - accuracy: 0.9691 - val_loss: 0.4903 - val_accuracy: 0.8873\n",
      "Epoch 18/20\n",
      "30/30 [==============================] - 0s 14ms/step - loss: 0.0923 - accuracy: 0.9725 - val_loss: 0.5163 - val_accuracy: 0.8873\n",
      "Epoch 19/20\n",
      "30/30 [==============================] - 0s 14ms/step - loss: 0.0874 - accuracy: 0.9734 - val_loss: 0.5586 - val_accuracy: 0.8839\n",
      "Epoch 20/20\n",
      "30/30 [==============================] - 0s 14ms/step - loss: 0.0842 - accuracy: 0.9752 - val_loss: 0.5317 - val_accuracy: 0.8848\n"
     ]
    }
   ],
   "source": [
    "model = keras.Sequential([\n",
    "    layers.Dense(16, activation=\"relu\"),\n",
    "    layers.Dropout(0.5),\n",
    "    layers.Dense(16, activation=\"relu\"),\n",
    "    layers.Dropout(0.5),\n",
    "    layers.Dense(1, activation=\"sigmoid\")\n",
    "])\n",
    "model.compile(optimizer=\"rmsprop\",\n",
    "              loss=\"binary_crossentropy\",\n",
    "              metrics=[\"accuracy\"])\n",
    "history_dropout = model.fit(\n",
    "    train_data, train_labels,\n",
    "    epochs=20, batch_size=512, validation_split=0.4)"
   ]
  },
  {
   "cell_type": "markdown",
   "metadata": {
    "colab_type": "text"
   },
   "source": [
    "## Summary"
   ]
  }
 ],
 "metadata": {
  "colab": {
   "collapsed_sections": [],
   "name": "chapter05_fundamentals-of-ml.i",
   "private_outputs": false,
   "provenance": [],
   "toc_visible": true
  },
  "kernelspec": {
   "display_name": "Python 3 (ipykernel)",
   "language": "python",
   "name": "python3"
  },
  "language_info": {
   "codemirror_mode": {
    "name": "ipython",
    "version": 3
   },
   "file_extension": ".py",
   "mimetype": "text/x-python",
   "name": "python",
   "nbconvert_exporter": "python",
   "pygments_lexer": "ipython3",
   "version": "3.9.7"
  }
 },
 "nbformat": 4,
 "nbformat_minor": 1
}
